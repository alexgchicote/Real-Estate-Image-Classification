{
  "cells": [
    {
      "cell_type": "markdown",
      "metadata": {
        "id": "view-in-github",
        "colab_type": "text"
      },
      "source": [
        "<a href=\"https://colab.research.google.com/github/alexgchicote/Real-Estate-Image-Classification/blob/main/SVM_Model.ipynb\" target=\"_parent\"><img src=\"https://colab.research.google.com/assets/colab-badge.svg\" alt=\"Open In Colab\"/></a>"
      ]
    },
    {
      "cell_type": "code",
      "source": [
        "# !pip install tensorflow-gpu"
      ],
      "metadata": {
        "id": "qMwtq83I_5yi"
      },
      "id": "qMwtq83I_5yi",
      "execution_count": null,
      "outputs": []
    },
    {
      "cell_type": "code",
      "source": [
        "!pip install hypopt"
      ],
      "metadata": {
        "colab": {
          "base_uri": "https://localhost:8080/"
        },
        "id": "R92ushyx4Gb-",
        "outputId": "4299484e-f7c1-4cd9-ab9e-858494919b5d"
      },
      "id": "R92ushyx4Gb-",
      "execution_count": null,
      "outputs": [
        {
          "output_type": "stream",
          "name": "stdout",
          "text": [
            "Collecting hypopt\n",
            "  Downloading hypopt-1.0.9-py2.py3-none-any.whl (13 kB)\n",
            "Requirement already satisfied: scikit-learn>=0.18 in /usr/local/lib/python3.7/dist-packages (from hypopt) (1.0.2)\n",
            "Requirement already satisfied: numpy>=1.11.3 in /usr/local/lib/python3.7/dist-packages (from hypopt) (1.21.6)\n",
            "Requirement already satisfied: joblib>=0.11 in /usr/local/lib/python3.7/dist-packages (from scikit-learn>=0.18->hypopt) (1.1.0)\n",
            "Requirement already satisfied: threadpoolctl>=2.0.0 in /usr/local/lib/python3.7/dist-packages (from scikit-learn>=0.18->hypopt) (3.1.0)\n",
            "Requirement already satisfied: scipy>=1.1.0 in /usr/local/lib/python3.7/dist-packages (from scikit-learn>=0.18->hypopt) (1.4.1)\n",
            "Installing collected packages: hypopt\n",
            "Successfully installed hypopt-1.0.9\n"
          ]
        }
      ]
    },
    {
      "cell_type": "code",
      "execution_count": null,
      "metadata": {
        "colab": {
          "base_uri": "https://localhost:8080/"
        },
        "id": "23TOba33L4qf",
        "outputId": "3b344026-5635-4de6-bf61-8a8f440a0169"
      },
      "outputs": [
        {
          "output_type": "stream",
          "name": "stdout",
          "text": [
            "Tue Apr 19 17:48:53 2022       \n",
            "+-----------------------------------------------------------------------------+\n",
            "| NVIDIA-SMI 460.32.03    Driver Version: 460.32.03    CUDA Version: 11.2     |\n",
            "|-------------------------------+----------------------+----------------------+\n",
            "| GPU  Name        Persistence-M| Bus-Id        Disp.A | Volatile Uncorr. ECC |\n",
            "| Fan  Temp  Perf  Pwr:Usage/Cap|         Memory-Usage | GPU-Util  Compute M. |\n",
            "|                               |                      |               MIG M. |\n",
            "|===============================+======================+======================|\n",
            "|   0  Tesla T4            Off  | 00000000:00:04.0 Off |                    0 |\n",
            "| N/A   35C    P8     9W /  70W |      0MiB / 15109MiB |      0%      Default |\n",
            "|                               |                      |                  N/A |\n",
            "+-------------------------------+----------------------+----------------------+\n",
            "                                                                               \n",
            "+-----------------------------------------------------------------------------+\n",
            "| Processes:                                                                  |\n",
            "|  GPU   GI   CI        PID   Type   Process name                  GPU Memory |\n",
            "|        ID   ID                                                   Usage      |\n",
            "|=============================================================================|\n",
            "|  No running processes found                                                 |\n",
            "+-----------------------------------------------------------------------------+\n"
          ]
        }
      ],
      "source": [
        "gpu_info = !nvidia-smi\n",
        "gpu_info = '\\n'.join(gpu_info)\n",
        "if gpu_info.find('failed') >= 0:\n",
        "  print('Not connected to a GPU')\n",
        "else:\n",
        "  print(gpu_info)"
      ],
      "id": "23TOba33L4qf"
    },
    {
      "cell_type": "code",
      "execution_count": null,
      "id": "4630022d",
      "metadata": {
        "id": "4630022d",
        "colab": {
          "base_uri": "https://localhost:8080/"
        },
        "outputId": "8c60f870-d4b4-49b6-9f8e-608ff50b98b9"
      },
      "outputs": [
        {
          "output_type": "stream",
          "name": "stdout",
          "text": [
            "2.8.0\n"
          ]
        }
      ],
      "source": [
        "# ensure adequate version of tensorflow\n",
        "import tensorflow as tf\n",
        "from tensorflow import keras\n",
        "import pandas as pd\n",
        "import numpy as np\n",
        "import os\n",
        "\n",
        "import matplotlib.pyplot as plt\n",
        "%matplotlib inline\n",
        "\n",
        "# to make this notebook's output stable across runs\n",
        "np.random.seed(42)\n",
        "\n",
        "\n",
        "\n",
        "print(tf.__version__)"
      ]
    },
    {
      "cell_type": "code",
      "source": [
        "from google.colab import drive\n",
        "drive.mount('/content/drive')"
      ],
      "metadata": {
        "colab": {
          "base_uri": "https://localhost:8080/"
        },
        "id": "K4dFo_N7k3TU",
        "outputId": "2909bdd6-c75f-4cdd-956d-c7c40cbebaec"
      },
      "id": "K4dFo_N7k3TU",
      "execution_count": null,
      "outputs": [
        {
          "output_type": "stream",
          "name": "stdout",
          "text": [
            "Mounted at /content/drive\n"
          ]
        }
      ]
    },
    {
      "cell_type": "markdown",
      "source": [
        "<h1>Declare Project Helper Functions</h1>"
      ],
      "metadata": {
        "id": "EqTjJ8pXyNT4"
      },
      "id": "EqTjJ8pXyNT4"
    },
    {
      "cell_type": "code",
      "source": [
        "# create filepath for models\n",
        "def create_model_filepath(name):\n",
        "  return cd_filepath + 'models/' + name + '.h5'"
      ],
      "metadata": {
        "id": "3LaxKCYp1lCb"
      },
      "execution_count": null,
      "outputs": [],
      "id": "3LaxKCYp1lCb"
    },
    {
      "cell_type": "markdown",
      "id": "38343cbe",
      "metadata": {
        "id": "38343cbe"
      },
      "source": [
        "<h1>Data Preprocessing</h1>"
      ]
    },
    {
      "cell_type": "code",
      "source": [
        "from keras.preprocessing.image import ImageDataGenerator\n",
        "\n",
        "cd_filepath = '/content/drive/MyDrive/code/'\n",
        "train_data_path = cd_filepath + 'all_images/train'\n",
        "valid_data_path = cd_filepath + 'all_images/valid'\n",
        "test_data_path = cd_filepath + 'all_images/test' \n",
        "\n",
        "image_classes = ['bathroom', 'bedroom', 'kitchen', 'livingroom']\n",
        "image_shape = (256, 256)\n",
        "\n",
        "meta_data = {'train': (train_data_path, 3783), 'valid': (valid_data_path, 1260), 'test': (test_data_path, 1262)}\n",
        "\n",
        "data_generator = ImageDataGenerator()\n",
        "\n",
        "\n",
        "def get_data(data_set):\n",
        "  if data_set == 'test':\n",
        "    shuffle = False\n",
        "  else:\n",
        "    shuffle = True\n",
        "\n",
        "  itr = data_generator.flow_from_directory(\n",
        "    meta_data[data_set][0],\n",
        "    target_size=image_shape,\n",
        "    batch_size=meta_data[data_set][1],\n",
        "    class_mode='sparse',\n",
        "    shuffle=shuffle)\n",
        "\n",
        "  return itr.next()"
      ],
      "metadata": {
        "id": "RGwhMaqflCLP"
      },
      "id": "RGwhMaqflCLP",
      "execution_count": null,
      "outputs": []
    },
    {
      "cell_type": "markdown",
      "id": "84a6583b",
      "metadata": {
        "id": "84a6583b"
      },
      "source": [
        "<h3>Generate training, validation and testing batches</h3>"
      ]
    },
    {
      "cell_type": "code",
      "source": [
        "X_train, y_train = get_data('train')"
      ],
      "metadata": {
        "colab": {
          "base_uri": "https://localhost:8080/"
        },
        "id": "YGjLVtYMh1PM",
        "outputId": "31c74e00-bae0-4bb4-89ba-cc885d3bc53f"
      },
      "id": "YGjLVtYMh1PM",
      "execution_count": null,
      "outputs": [
        {
          "output_type": "stream",
          "name": "stdout",
          "text": [
            "Found 3783 images belonging to 4 classes.\n"
          ]
        },
        {
          "output_type": "stream",
          "name": "stderr",
          "text": [
            "/usr/local/lib/python3.7/dist-packages/PIL/TiffImagePlugin.py:770: UserWarning: Possibly corrupt EXIF data.  Expecting to read 29 bytes but only got 28. Skipping tag 42036\n",
            "  \" Skipping tag %s\" % (size, len(data), tag)\n"
          ]
        }
      ]
    },
    {
      "cell_type": "code",
      "source": [
        "X_valid, y_valid = get_data('valid')"
      ],
      "metadata": {
        "colab": {
          "base_uri": "https://localhost:8080/"
        },
        "id": "dbkCbu8Lmyp1",
        "outputId": "05936af2-eb9e-4195-a5c6-78044c819657"
      },
      "id": "dbkCbu8Lmyp1",
      "execution_count": null,
      "outputs": [
        {
          "output_type": "stream",
          "name": "stdout",
          "text": [
            "Found 1260 images belonging to 4 classes.\n"
          ]
        }
      ]
    },
    {
      "cell_type": "code",
      "source": [
        "X_test, y_test = get_data('test')"
      ],
      "metadata": {
        "colab": {
          "base_uri": "https://localhost:8080/"
        },
        "id": "zUo-FoLrm0WV",
        "outputId": "b3d534ca-7c14-4b18-c655-9a86aebc18d4"
      },
      "id": "zUo-FoLrm0WV",
      "execution_count": null,
      "outputs": [
        {
          "output_type": "stream",
          "name": "stdout",
          "text": [
            "Found 1262 images belonging to 4 classes.\n"
          ]
        },
        {
          "output_type": "stream",
          "name": "stderr",
          "text": [
            "/usr/local/lib/python3.7/dist-packages/PIL/TiffImagePlugin.py:770: UserWarning: Possibly corrupt EXIF data.  Expecting to read 29 bytes but only got 28. Skipping tag 42036\n",
            "  \" Skipping tag %s\" % (size, len(data), tag)\n"
          ]
        }
      ]
    },
    {
      "cell_type": "markdown",
      "source": [
        "<h3>Save data as 2d arrays</h3>"
      ],
      "metadata": {
        "id": "LzVNaGhjeiqG"
      },
      "id": "LzVNaGhjeiqG"
    },
    {
      "cell_type": "code",
      "source": [
        "from numpy import save\n",
        "\n",
        "arrays_path = '/content/drive/MyDrive/code/datasets_arrays/'\n",
        "\n",
        "save(arrays_path + 'X_train_2d', X_train)\n",
        "save(arrays_path + 'X_valid_2d', X_valid)\n",
        "save(arrays_path + 'X_test_2d', X_test)"
      ],
      "metadata": {
        "id": "n29jDgMmWoTl"
      },
      "id": "n29jDgMmWoTl",
      "execution_count": null,
      "outputs": []
    },
    {
      "cell_type": "markdown",
      "source": [
        "<h3>Save datasets 1d arrays CSV</h3>"
      ],
      "metadata": {
        "id": "3kgPZpLLSxIA"
      },
      "id": "3kgPZpLLSxIA"
    },
    {
      "cell_type": "code",
      "source": [
        "# flatten data sample wise\n",
        "X_train = X_train.reshape(X_train.shape[0], -1)\n",
        "X_valid = X_valid.reshape(X_valid.shape[0], -1)\n",
        "X_test = X_test.reshape(X_test.shape[0], -1)"
      ],
      "metadata": {
        "id": "3ULt5iQRRwYB"
      },
      "id": "3ULt5iQRRwYB",
      "execution_count": null,
      "outputs": []
    },
    {
      "cell_type": "code",
      "source": [
        "from numpy import asarray\n",
        "from numpy import savetxt\n",
        "\n",
        "arrays_path = '/content/drive/MyDrive/code/datasets_arrays/'\n",
        "\n",
        "# save datasets to csv file\n",
        "savetxt(arrays_path + 'X_train.csv', X_train, delimiter=',')\n",
        "savetxt(arrays_path + 'y_train.csv', y_train, delimiter=',')\n",
        "savetxt(arrays_path + 'X_valid.csv', X_valid, delimiter=',')\n",
        "savetxt(arrays_path + 'y_valid.csv', y_valid, delimiter=',')\n",
        "savetxt(arrays_path + 'X_test.csv', X_test, delimiter=',')\n",
        "savetxt(arrays_path + 'y_test.csv', y_test, delimiter=',')"
      ],
      "metadata": {
        "id": "H5TxEaJ2Lc1g"
      },
      "id": "H5TxEaJ2Lc1g",
      "execution_count": null,
      "outputs": []
    },
    {
      "cell_type": "markdown",
      "source": [
        "<h3>Load 1d Datasets as Numpy Arrays</h3>"
      ],
      "metadata": {
        "id": "b0WL9EWqS5dT"
      },
      "id": "b0WL9EWqS5dT"
    },
    {
      "cell_type": "code",
      "source": [
        "from numpy import loadtxt\n",
        "\n",
        "arrays_path = '/content/drive/MyDrive/code/datasets_arrays/'\n",
        "\n",
        "# load datasets as numpy arrays\n",
        "X_train = loadtxt(arrays_path + 'X_train.csv', delimiter=',')\n",
        "y_train = loadtxt(arrays_path + 'y_train.csv', delimiter=',')\n",
        "\n",
        "X_valid = loadtxt(arrays_path + 'X_valid.csv', delimiter=',')\n",
        "y_valid = loadtxt(arrays_path + 'y_valid.csv', delimiter=',')\n",
        "\n",
        "X_test = loadtxt(arrays_path + 'X_test.csv', delimiter=',')\n",
        "y_test = loadtxt(arrays_path + 'y_test.csv', delimiter=',')"
      ],
      "metadata": {
        "id": "hPdntZtJlTjC"
      },
      "id": "hPdntZtJlTjC",
      "execution_count": null,
      "outputs": []
    },
    {
      "cell_type": "code",
      "source": [
        "X_train.shape"
      ],
      "metadata": {
        "colab": {
          "base_uri": "https://localhost:8080/"
        },
        "id": "JyumepcF5MpZ",
        "outputId": "bec5a658-00cd-4fca-a95c-3587e3197e0c"
      },
      "id": "JyumepcF5MpZ",
      "execution_count": null,
      "outputs": [
        {
          "output_type": "execute_result",
          "data": {
            "text/plain": [
              "(3783, 30000)"
            ]
          },
          "metadata": {},
          "execution_count": 8
        }
      ]
    },
    {
      "cell_type": "code",
      "source": [
        "X_train[0]"
      ],
      "metadata": {
        "colab": {
          "base_uri": "https://localhost:8080/"
        },
        "id": "9HuZDxqm5won",
        "outputId": "dc37a094-b17e-40f2-9df9-ec1273042d80"
      },
      "id": "9HuZDxqm5won",
      "execution_count": null,
      "outputs": [
        {
          "output_type": "execute_result",
          "data": {
            "text/plain": [
              "array([ 63.,  58.,  54., ..., 138., 186., 198.])"
            ]
          },
          "metadata": {},
          "execution_count": 9
        }
      ]
    },
    {
      "cell_type": "markdown",
      "source": [
        "<h3>Load labels as Numpy Arrays</h3>"
      ],
      "metadata": {
        "id": "QuwtSSh9lRB4"
      },
      "id": "QuwtSSh9lRB4"
    },
    {
      "cell_type": "markdown",
      "source": [
        "<h2>Scaling the Data</h2>"
      ],
      "metadata": {
        "id": "UylKakGDUX26"
      },
      "id": "UylKakGDUX26"
    },
    {
      "cell_type": "code",
      "source": [
        "from sklearn.preprocessing import StandardScaler\n",
        "\n",
        "scaler = StandardScaler()\n",
        "X_train_scaled = scaler.fit_transform(X_train.astype(np.float32))\n",
        "X_valid_scaled = scaler.transform(X_valid.astype(np.float32))\n",
        "X_test_scaled = scaler.transform(X_test.astype(np.float32))"
      ],
      "metadata": {
        "id": "wD3U6fSDUXEw"
      },
      "id": "wD3U6fSDUXEw",
      "execution_count": null,
      "outputs": []
    },
    {
      "cell_type": "code",
      "source": [
        "X_train_scaled[0]"
      ],
      "metadata": {
        "colab": {
          "base_uri": "https://localhost:8080/"
        },
        "id": "o6E7lqPt5zXp",
        "outputId": "404295d8-b850-4a9f-a695-bfdddd5a5091"
      },
      "id": "o6E7lqPt5zXp",
      "execution_count": null,
      "outputs": [
        {
          "output_type": "execute_result",
          "data": {
            "text/plain": [
              "array([-1.6714138 , -1.5356077 , -1.3229553 , ..., -0.17707634,\n",
              "        0.5775146 ,  0.8044618 ], dtype=float32)"
            ]
          },
          "metadata": {},
          "execution_count": 10
        }
      ]
    },
    {
      "cell_type": "markdown",
      "source": [
        "<h2>Dimesionality Reduction</h2>\n",
        "\n",
        "\n",
        "*   Use PCA to perform dimensionality reduction.\n",
        "*   Reduce the dimensions from n dimensions to d dimensions where d preserves 95% of the variance.\n",
        "\n"
      ],
      "metadata": {
        "id": "kVcwey0a-2OD"
      },
      "id": "kVcwey0a-2OD"
    },
    {
      "cell_type": "code",
      "source": [
        "from sklearn.decomposition import PCA\n",
        "\n",
        "# transform data to reduced dimensions\n",
        "pca = PCA(n_components=0.95)\n",
        "X_train_red = pca.fit_transform(X_train_scaled)"
      ],
      "metadata": {
        "id": "TLn55W7C8w4b"
      },
      "id": "TLn55W7C8w4b",
      "execution_count": null,
      "outputs": []
    },
    {
      "cell_type": "code",
      "source": [
        "X_train_red.shape"
      ],
      "metadata": {
        "colab": {
          "base_uri": "https://localhost:8080/"
        },
        "id": "qp5Qpn0OVAcT",
        "outputId": "feee57d9-09d2-4dca-c66f-ddf35000fc69"
      },
      "id": "qp5Qpn0OVAcT",
      "execution_count": null,
      "outputs": [
        {
          "output_type": "execute_result",
          "data": {
            "text/plain": [
              "(3783, 1157)"
            ]
          },
          "metadata": {},
          "execution_count": 16
        }
      ]
    },
    {
      "cell_type": "code",
      "source": [
        "X_valid_red = pca.transform(X_valid_scaled)\n",
        "X_test_red = pca.transform(X_test_scaled)"
      ],
      "metadata": {
        "id": "isfcJFBIVbQu"
      },
      "id": "isfcJFBIVbQu",
      "execution_count": null,
      "outputs": []
    },
    {
      "cell_type": "code",
      "source": [
        "from hypopt import GridSearch\n",
        "from sklearn.svm import SVC\n",
        "\n",
        "# initialise the Suppopr Vector Classifier\n",
        "svm_clf = SVC()\n",
        "\n",
        "# Define the range of values for the hyper-parameters\n",
        "parameter_grid = {'C': [2, 3, 4, 5, 6],\n",
        "              'gamma': ['scale', 'auto'],\n",
        "              'kernel': ['poly', 'rbf', 'sigmoid', 'linear']}\n",
        "\n",
        "grid = GridSearch(svm_clf, parameter_grid)\n",
        "\n",
        "# train the model on every hyper-parameter combination\n",
        "grid.fit(X_train_red, y_train, X_valid_red, y_valid)"
      ],
      "metadata": {
        "id": "kHY6UdNO385b",
        "colab": {
          "base_uri": "https://localhost:8080/"
        },
        "outputId": "807adbea-5d61-4ec8-c40f-be90107c4258"
      },
      "id": "kHY6UdNO385b",
      "execution_count": null,
      "outputs": [
        {
          "output_type": "stream",
          "name": "stderr",
          "text": [
            "100%|██████████| 40/40 [05:53<00:00,  8.85s/it]\n"
          ]
        },
        {
          "output_type": "execute_result",
          "data": {
            "text/plain": [
              "SVC(C=5, random_state=0)"
            ]
          },
          "metadata": {},
          "execution_count": 13
        }
      ]
    },
    {
      "cell_type": "code",
      "source": [
        "grid.model.get_params()"
      ],
      "metadata": {
        "colab": {
          "base_uri": "https://localhost:8080/"
        },
        "id": "A9QCEwWBMW8Z",
        "outputId": "87c2df82-df1d-4ab6-f8e1-3bd8df67d61b"
      },
      "id": "A9QCEwWBMW8Z",
      "execution_count": null,
      "outputs": [
        {
          "output_type": "execute_result",
          "data": {
            "text/plain": [
              "{'C': 5,\n",
              " 'break_ties': False,\n",
              " 'cache_size': 200,\n",
              " 'class_weight': None,\n",
              " 'coef0': 0.0,\n",
              " 'decision_function_shape': 'ovr',\n",
              " 'degree': 3,\n",
              " 'gamma': 'scale',\n",
              " 'kernel': 'rbf',\n",
              " 'max_iter': -1,\n",
              " 'probability': False,\n",
              " 'random_state': 0,\n",
              " 'shrinking': True,\n",
              " 'tol': 0.001,\n",
              " 'verbose': False}"
            ]
          },
          "metadata": {},
          "execution_count": 14
        }
      ]
    },
    {
      "cell_type": "code",
      "source": [
        "print('Test Score for Optimized Parameters:', grid.score(X_test_red, y_test))"
      ],
      "metadata": {
        "id": "N6c6F-zM6HuK",
        "colab": {
          "base_uri": "https://localhost:8080/"
        },
        "outputId": "cbd39060-3378-4b93-faca-1ba4bf099c8a"
      },
      "id": "N6c6F-zM6HuK",
      "execution_count": null,
      "outputs": [
        {
          "output_type": "stream",
          "name": "stdout",
          "text": [
            "Test Score for Optimized Parameters: 0.48019017432646594\n"
          ]
        }
      ]
    },
    {
      "cell_type": "code",
      "source": [
        "from numpy import save\n",
        "\n",
        "arrays_path = '/content/drive/MyDrive/code/datasets_arrays/'\n",
        "\n",
        "predictions = grid.predict(X_test_red)\n",
        "save(arrays_path + 'svm_predictions', predictions)"
      ],
      "metadata": {
        "id": "Px9210r59Tqf"
      },
      "id": "Px9210r59Tqf",
      "execution_count": null,
      "outputs": []
    }
  ],
  "metadata": {
    "kernelspec": {
      "display_name": "realEstateKernel",
      "language": "python",
      "name": "realestatekernel"
    },
    "language_info": {
      "codemirror_mode": {
        "name": "ipython",
        "version": 3
      },
      "file_extension": ".py",
      "mimetype": "text/x-python",
      "name": "python",
      "nbconvert_exporter": "python",
      "pygments_lexer": "ipython3",
      "version": "3.10.2"
    },
    "colab": {
      "name": "SVM Model.ipynb",
      "provenance": [],
      "collapsed_sections": [],
      "machine_shape": "hm",
      "include_colab_link": true
    },
    "accelerator": "GPU"
  },
  "nbformat": 4,
  "nbformat_minor": 5
}